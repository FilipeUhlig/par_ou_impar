{
 "cells": [
  {
   "cell_type": "markdown",
   "id": "acdab66e",
   "metadata": {},
   "source": [
    "###  leia um n´umero e imprima na tela a mensagem ”O n´umero ´e par.”se o n´umero lido for par e ”O n´umero ´e impar”se o n´umero lido for ´ımpar. Em caso de n´umero n˜ao inteiros ou negativos, imprima na tela ”Este n´umero n˜ao ´e v´alido.”\n"
   ]
  },
  {
   "cell_type": "code",
   "execution_count": 27,
   "id": "08b7d214",
   "metadata": {},
   "outputs": [
    {
     "name": "stdout",
     "output_type": "stream",
     "text": [
      "Qual o número desejado? -2.5\n"
     ]
    }
   ],
   "source": [
    "x = float(input(\"Qual o número desejado? \"))"
   ]
  },
  {
   "cell_type": "code",
   "execution_count": 28,
   "id": "8b4c9e73",
   "metadata": {},
   "outputs": [
    {
     "name": "stdout",
     "output_type": "stream",
     "text": [
      "Seu número é inválido.\n"
     ]
    }
   ],
   "source": [
    "if (x % 2) == 0 and x > 0 and int(x) == x:\n",
    "    print(\"Seu número é par.\")\n",
    "\n",
    "elif (x % 2) != 0 and x > 0 and int(x) == x:\n",
    "    print(\"Seu número é ímpar\")\n",
    "    \n",
    "else:\n",
    "    print(\"Seu número é inválido.\")"
   ]
  },
  {
   "cell_type": "code",
   "execution_count": null,
   "id": "5ec80588",
   "metadata": {},
   "outputs": [],
   "source": []
  }
 ],
 "metadata": {
  "kernelspec": {
   "display_name": "Python 3 (ipykernel)",
   "language": "python",
   "name": "python3"
  },
  "language_info": {
   "codemirror_mode": {
    "name": "ipython",
    "version": 3
   },
   "file_extension": ".py",
   "mimetype": "text/x-python",
   "name": "python",
   "nbconvert_exporter": "python",
   "pygments_lexer": "ipython3",
   "version": "3.10.9"
  }
 },
 "nbformat": 4,
 "nbformat_minor": 5
}
